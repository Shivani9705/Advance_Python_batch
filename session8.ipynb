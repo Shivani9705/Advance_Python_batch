{
 "cells": [
  {
   "cell_type": "code",
   "execution_count": 1,
   "id": "f1c12e62",
   "metadata": {},
   "outputs": [],
   "source": [
    "# revise a list "
   ]
  },
  {
   "cell_type": "code",
   "execution_count": 4,
   "id": "786bf8e2",
   "metadata": {},
   "outputs": [],
   "source": [
    "lst=[101,'A',45.67,True]"
   ]
  },
  {
   "cell_type": "code",
   "execution_count": 2,
   "id": "1bd7666f",
   "metadata": {},
   "outputs": [],
   "source": [
    "# add values in a list "
   ]
  },
  {
   "cell_type": "code",
   "execution_count": 6,
   "id": "cf46859d",
   "metadata": {},
   "outputs": [
    {
     "data": {
      "text/plain": [
       "[101, 'A', 45.67, True, 67, 67]"
      ]
     },
     "execution_count": 6,
     "metadata": {},
     "output_type": "execute_result"
    }
   ],
   "source": [
    "lst.append(67)\n",
    "lst"
   ]
  },
  {
   "cell_type": "code",
   "execution_count": 9,
   "id": "799c28b0",
   "metadata": {},
   "outputs": [],
   "source": [
    "lst.insert(3,90)"
   ]
  },
  {
   "cell_type": "code",
   "execution_count": 10,
   "id": "098bfdd2",
   "metadata": {},
   "outputs": [
    {
     "data": {
      "text/plain": [
       "[101, 'A', 45.67, 90, True, 67, 67, 3]"
      ]
     },
     "execution_count": 10,
     "metadata": {},
     "output_type": "execute_result"
    }
   ],
   "source": [
    "lst"
   ]
  },
  {
   "cell_type": "code",
   "execution_count": 3,
   "id": "b2e02a65",
   "metadata": {},
   "outputs": [],
   "source": [
    "# remove value from a list "
   ]
  },
  {
   "cell_type": "code",
   "execution_count": 11,
   "id": "c48d9eac",
   "metadata": {},
   "outputs": [
    {
     "data": {
      "text/plain": [
       "3"
      ]
     },
     "execution_count": 11,
     "metadata": {},
     "output_type": "execute_result"
    }
   ],
   "source": [
    "lst.pop()"
   ]
  },
  {
   "cell_type": "code",
   "execution_count": 12,
   "id": "ba2871f6",
   "metadata": {},
   "outputs": [],
   "source": [
    "lst.remove(True)"
   ]
  },
  {
   "cell_type": "code",
   "execution_count": 13,
   "id": "d046abee",
   "metadata": {},
   "outputs": [
    {
     "data": {
      "text/plain": [
       "[101, 'A', 45.67, 90, 67, 67]"
      ]
     },
     "execution_count": 13,
     "metadata": {},
     "output_type": "execute_result"
    }
   ],
   "source": [
    "lst"
   ]
  },
  {
   "cell_type": "code",
   "execution_count": 14,
   "id": "158ab99c",
   "metadata": {},
   "outputs": [],
   "source": [
    "del(lst[1])"
   ]
  },
  {
   "cell_type": "code",
   "execution_count": 15,
   "id": "ff4ce423",
   "metadata": {},
   "outputs": [
    {
     "data": {
      "text/plain": [
       "[101, 45.67, 90, 67, 67]"
      ]
     },
     "execution_count": 15,
     "metadata": {},
     "output_type": "execute_result"
    }
   ],
   "source": [
    "lst"
   ]
  },
  {
   "cell_type": "markdown",
   "id": "04adb3c7",
   "metadata": {},
   "source": [
    "# Tuple"
   ]
  },
  {
   "cell_type": "code",
   "execution_count": 16,
   "id": "756ce03d",
   "metadata": {},
   "outputs": [],
   "source": [
    "t1=(1,2,3,'ertyui',True,45.67,80.90)"
   ]
  },
  {
   "cell_type": "code",
   "execution_count": 17,
   "id": "a95d01a0",
   "metadata": {},
   "outputs": [
    {
     "data": {
      "text/plain": [
       "(1, 2, 3, 'ertyui', True, 45.67, 80.9)"
      ]
     },
     "execution_count": 17,
     "metadata": {},
     "output_type": "execute_result"
    }
   ],
   "source": [
    "t1"
   ]
  },
  {
   "cell_type": "code",
   "execution_count": 19,
   "id": "bfad127e",
   "metadata": {},
   "outputs": [],
   "source": [
    "t2=5,6,7,8"
   ]
  },
  {
   "cell_type": "code",
   "execution_count": 20,
   "id": "21e6ba71",
   "metadata": {},
   "outputs": [
    {
     "data": {
      "text/plain": [
       "tuple"
      ]
     },
     "execution_count": 20,
     "metadata": {},
     "output_type": "execute_result"
    }
   ],
   "source": [
    "type(t2)"
   ]
  },
  {
   "cell_type": "code",
   "execution_count": 23,
   "id": "14bfa86a",
   "metadata": {},
   "outputs": [],
   "source": [
    "t3=(6,)"
   ]
  },
  {
   "cell_type": "code",
   "execution_count": 24,
   "id": "441ac0f3",
   "metadata": {},
   "outputs": [
    {
     "data": {
      "text/plain": [
       "tuple"
      ]
     },
     "execution_count": 24,
     "metadata": {},
     "output_type": "execute_result"
    }
   ],
   "source": [
    "type(t3)"
   ]
  },
  {
   "cell_type": "code",
   "execution_count": 27,
   "id": "f3bb884c",
   "metadata": {},
   "outputs": [],
   "source": [
    "t4=7,"
   ]
  },
  {
   "cell_type": "code",
   "execution_count": 28,
   "id": "16adbcd2",
   "metadata": {},
   "outputs": [
    {
     "data": {
      "text/plain": [
       "tuple"
      ]
     },
     "execution_count": 28,
     "metadata": {},
     "output_type": "execute_result"
    }
   ],
   "source": [
    "type(t4)"
   ]
  },
  {
   "cell_type": "code",
   "execution_count": 29,
   "id": "91109fda",
   "metadata": {},
   "outputs": [],
   "source": [
    "# Access by indexing "
   ]
  },
  {
   "cell_type": "code",
   "execution_count": 30,
   "id": "11c2c9bf",
   "metadata": {},
   "outputs": [
    {
     "data": {
      "text/plain": [
       "(1, 2, 3, 'ertyui', True, 45.67, 80.9)"
      ]
     },
     "execution_count": 30,
     "metadata": {},
     "output_type": "execute_result"
    }
   ],
   "source": [
    "t1"
   ]
  },
  {
   "cell_type": "code",
   "execution_count": 32,
   "id": "c39196a8",
   "metadata": {},
   "outputs": [
    {
     "data": {
      "text/plain": [
       "45.67"
      ]
     },
     "execution_count": 32,
     "metadata": {},
     "output_type": "execute_result"
    }
   ],
   "source": [
    "t1[5]"
   ]
  },
  {
   "cell_type": "code",
   "execution_count": 34,
   "id": "b0c3be8f",
   "metadata": {},
   "outputs": [],
   "source": [
    "# tuple concatenation "
   ]
  },
  {
   "cell_type": "code",
   "execution_count": 35,
   "id": "b499c560",
   "metadata": {},
   "outputs": [],
   "source": [
    "num=(1,2,3,4,5)"
   ]
  },
  {
   "cell_type": "code",
   "execution_count": 36,
   "id": "318fd8d4",
   "metadata": {},
   "outputs": [],
   "source": [
    "colors=('red','green','blue','black','purple','Pink','brown')"
   ]
  },
  {
   "cell_type": "code",
   "execution_count": 37,
   "id": "105177bb",
   "metadata": {},
   "outputs": [],
   "source": [
    "res=num+colors"
   ]
  },
  {
   "cell_type": "code",
   "execution_count": 38,
   "id": "c273c3d6",
   "metadata": {},
   "outputs": [
    {
     "data": {
      "text/plain": [
       "(1, 2, 3, 4, 5, 'red', 'green', 'blue', 'black', 'purple', 'Pink', 'brown')"
      ]
     },
     "execution_count": 38,
     "metadata": {},
     "output_type": "execute_result"
    }
   ],
   "source": [
    "res"
   ]
  },
  {
   "cell_type": "code",
   "execution_count": 39,
   "id": "117588cd",
   "metadata": {},
   "outputs": [],
   "source": [
    "# tuple unpacking "
   ]
  },
  {
   "cell_type": "code",
   "execution_count": 41,
   "id": "c94f70a6",
   "metadata": {},
   "outputs": [],
   "source": [
    "c1=colors[0]"
   ]
  },
  {
   "cell_type": "code",
   "execution_count": 42,
   "id": "17c32243",
   "metadata": {},
   "outputs": [
    {
     "data": {
      "text/plain": [
       "'red'"
      ]
     },
     "execution_count": 42,
     "metadata": {},
     "output_type": "execute_result"
    }
   ],
   "source": [
    "c1"
   ]
  },
  {
   "cell_type": "code",
   "execution_count": 43,
   "id": "58dacbe6",
   "metadata": {},
   "outputs": [],
   "source": [
    "c1,c2,c3,c4,c5,c6,c7=colors"
   ]
  },
  {
   "cell_type": "code",
   "execution_count": 44,
   "id": "6eba801c",
   "metadata": {},
   "outputs": [
    {
     "data": {
      "text/plain": [
       "'purple'"
      ]
     },
     "execution_count": 44,
     "metadata": {},
     "output_type": "execute_result"
    }
   ],
   "source": [
    "c5"
   ]
  },
  {
   "cell_type": "code",
   "execution_count": 45,
   "id": "745ede8d",
   "metadata": {},
   "outputs": [
    {
     "data": {
      "text/plain": [
       "'green'"
      ]
     },
     "execution_count": 45,
     "metadata": {},
     "output_type": "execute_result"
    }
   ],
   "source": [
    "c2"
   ]
  },
  {
   "cell_type": "markdown",
   "id": "dc40112d",
   "metadata": {},
   "source": [
    "# set"
   ]
  },
  {
   "cell_type": "code",
   "execution_count": 47,
   "id": "080648b8",
   "metadata": {},
   "outputs": [],
   "source": [
    "s1={1,1,1,1,1,2,2,2,3,3,4,4,4,4,5,5,5,6,66,7,7,7,8,8,9,9}"
   ]
  },
  {
   "cell_type": "code",
   "execution_count": 48,
   "id": "07f2c827",
   "metadata": {},
   "outputs": [
    {
     "data": {
      "text/plain": [
       "{1, 2, 3, 4, 5, 6, 7, 8, 9, 66}"
      ]
     },
     "execution_count": 48,
     "metadata": {},
     "output_type": "execute_result"
    }
   ],
   "source": [
    "s1"
   ]
  },
  {
   "cell_type": "code",
   "execution_count": 49,
   "id": "7eaaeaa2",
   "metadata": {},
   "outputs": [],
   "source": [
    "# add"
   ]
  },
  {
   "cell_type": "code",
   "execution_count": 50,
   "id": "c7dd19de",
   "metadata": {},
   "outputs": [],
   "source": [
    "s1.add(90)"
   ]
  },
  {
   "cell_type": "code",
   "execution_count": 51,
   "id": "2eb6e36a",
   "metadata": {},
   "outputs": [
    {
     "data": {
      "text/plain": [
       "{1, 2, 3, 4, 5, 6, 7, 8, 9, 66, 90}"
      ]
     },
     "execution_count": 51,
     "metadata": {},
     "output_type": "execute_result"
    }
   ],
   "source": [
    "s1"
   ]
  },
  {
   "cell_type": "code",
   "execution_count": 52,
   "id": "dcc29f20",
   "metadata": {},
   "outputs": [],
   "source": [
    "# remove"
   ]
  },
  {
   "cell_type": "code",
   "execution_count": 53,
   "id": "ea3506bb",
   "metadata": {},
   "outputs": [],
   "source": [
    "s1.remove(66)"
   ]
  },
  {
   "cell_type": "code",
   "execution_count": 54,
   "id": "89d05bcc",
   "metadata": {},
   "outputs": [
    {
     "data": {
      "text/plain": [
       "{1, 2, 3, 4, 5, 6, 7, 8, 9, 90}"
      ]
     },
     "execution_count": 54,
     "metadata": {},
     "output_type": "execute_result"
    }
   ],
   "source": [
    "s1"
   ]
  },
  {
   "cell_type": "code",
   "execution_count": 55,
   "id": "29525c8f",
   "metadata": {},
   "outputs": [],
   "source": [
    "# set operation "
   ]
  },
  {
   "cell_type": "code",
   "execution_count": 56,
   "id": "a3622074",
   "metadata": {},
   "outputs": [],
   "source": [
    "# union "
   ]
  },
  {
   "cell_type": "code",
   "execution_count": 57,
   "id": "1692cf8c",
   "metadata": {},
   "outputs": [],
   "source": [
    "s2={1,2,3,4,5}"
   ]
  },
  {
   "cell_type": "code",
   "execution_count": 58,
   "id": "6b268e6a",
   "metadata": {},
   "outputs": [],
   "source": [
    "s3={3,4,5,6,7}"
   ]
  },
  {
   "cell_type": "code",
   "execution_count": 59,
   "id": "4dac7e7e",
   "metadata": {},
   "outputs": [
    {
     "data": {
      "text/plain": [
       "{1, 2, 3, 4, 5, 6, 7}"
      ]
     },
     "execution_count": 59,
     "metadata": {},
     "output_type": "execute_result"
    }
   ],
   "source": [
    "s2.union(s3)"
   ]
  },
  {
   "cell_type": "code",
   "execution_count": 60,
   "id": "2e737733",
   "metadata": {},
   "outputs": [],
   "source": [
    "# intersection "
   ]
  },
  {
   "cell_type": "code",
   "execution_count": 61,
   "id": "55d2bdad",
   "metadata": {},
   "outputs": [
    {
     "data": {
      "text/plain": [
       "{3, 4, 5}"
      ]
     },
     "execution_count": 61,
     "metadata": {},
     "output_type": "execute_result"
    }
   ],
   "source": [
    "s2.intersection(s3)"
   ]
  },
  {
   "cell_type": "code",
   "execution_count": 63,
   "id": "5677b5c6",
   "metadata": {},
   "outputs": [],
   "source": [
    "# difference"
   ]
  },
  {
   "cell_type": "code",
   "execution_count": 64,
   "id": "231e323a",
   "metadata": {},
   "outputs": [
    {
     "data": {
      "text/plain": [
       "{1, 2}"
      ]
     },
     "execution_count": 64,
     "metadata": {},
     "output_type": "execute_result"
    }
   ],
   "source": [
    "s2.difference(s3)"
   ]
  },
  {
   "cell_type": "code",
   "execution_count": 65,
   "id": "5bfef891",
   "metadata": {},
   "outputs": [
    {
     "data": {
      "text/plain": [
       "{6, 7}"
      ]
     },
     "execution_count": 65,
     "metadata": {},
     "output_type": "execute_result"
    }
   ],
   "source": [
    "s3.difference(s2)"
   ]
  },
  {
   "cell_type": "code",
   "execution_count": 66,
   "id": "20b79fb8",
   "metadata": {},
   "outputs": [],
   "source": [
    "# symmetric difference "
   ]
  },
  {
   "cell_type": "code",
   "execution_count": 67,
   "id": "f8ad78a0",
   "metadata": {},
   "outputs": [
    {
     "data": {
      "text/plain": [
       "{1, 2, 6, 7}"
      ]
     },
     "execution_count": 67,
     "metadata": {},
     "output_type": "execute_result"
    }
   ],
   "source": [
    "s2.symmetric_difference(s3)"
   ]
  },
  {
   "cell_type": "code",
   "execution_count": 68,
   "id": "e34d3156",
   "metadata": {},
   "outputs": [],
   "source": [
    "# identity operator = is,isnot"
   ]
  },
  {
   "cell_type": "code",
   "execution_count": 69,
   "id": "a133eb17",
   "metadata": {},
   "outputs": [],
   "source": [
    "# membership operator = in,not in"
   ]
  },
  {
   "cell_type": "code",
   "execution_count": 70,
   "id": "f6755042",
   "metadata": {},
   "outputs": [
    {
     "data": {
      "text/plain": [
       "{3, 4, 5, 6, 7}"
      ]
     },
     "execution_count": 70,
     "metadata": {},
     "output_type": "execute_result"
    }
   ],
   "source": [
    "s3"
   ]
  },
  {
   "cell_type": "code",
   "execution_count": 71,
   "id": "43befb2d",
   "metadata": {},
   "outputs": [
    {
     "data": {
      "text/plain": [
       "True"
      ]
     },
     "execution_count": 71,
     "metadata": {},
     "output_type": "execute_result"
    }
   ],
   "source": [
    "3 in s3"
   ]
  },
  {
   "cell_type": "code",
   "execution_count": 72,
   "id": "74ee3283",
   "metadata": {},
   "outputs": [
    {
     "data": {
      "text/plain": [
       "False"
      ]
     },
     "execution_count": 72,
     "metadata": {},
     "output_type": "execute_result"
    }
   ],
   "source": [
    "5 not in s3"
   ]
  },
  {
   "cell_type": "code",
   "execution_count": 75,
   "id": "d8b0d682",
   "metadata": {},
   "outputs": [],
   "source": [
    "# issubset function "
   ]
  },
  {
   "cell_type": "code",
   "execution_count": 73,
   "id": "22afb175",
   "metadata": {},
   "outputs": [],
   "source": [
    "s5={1,2,3,4,5,6,7}"
   ]
  },
  {
   "cell_type": "code",
   "execution_count": 79,
   "id": "636e1a45",
   "metadata": {},
   "outputs": [],
   "source": [
    "s6={3,4,5,6}"
   ]
  },
  {
   "cell_type": "code",
   "execution_count": 80,
   "id": "210f3c6f",
   "metadata": {},
   "outputs": [
    {
     "data": {
      "text/plain": [
       "True"
      ]
     },
     "execution_count": 80,
     "metadata": {},
     "output_type": "execute_result"
    }
   ],
   "source": [
    "s6.issubset(s5)"
   ]
  },
  {
   "cell_type": "code",
   "execution_count": 82,
   "id": "32752052",
   "metadata": {},
   "outputs": [],
   "source": [
    "# set comprehension "
   ]
  },
  {
   "cell_type": "code",
   "execution_count": 83,
   "id": "5242da61",
   "metadata": {},
   "outputs": [
    {
     "data": {
      "text/plain": [
       "{1, 2, 3, 4, 5, 6, 7, 8, 9, 10}"
      ]
     },
     "execution_count": 83,
     "metadata": {},
     "output_type": "execute_result"
    }
   ],
   "source": [
    "{i for i in range(1,11)}"
   ]
  },
  {
   "cell_type": "code",
   "execution_count": 84,
   "id": "4054644b",
   "metadata": {},
   "outputs": [
    {
     "data": {
      "text/plain": [
       "{1, 4, 9, 16, 25, 36, 49, 64, 81}"
      ]
     },
     "execution_count": 84,
     "metadata": {},
     "output_type": "execute_result"
    }
   ],
   "source": [
    "{x*x for x in range(1,10)}"
   ]
  },
  {
   "cell_type": "code",
   "execution_count": null,
   "id": "f59bf1cf",
   "metadata": {},
   "outputs": [],
   "source": []
  }
 ],
 "metadata": {
  "kernelspec": {
   "display_name": "Python 3 (ipykernel)",
   "language": "python",
   "name": "python3"
  },
  "language_info": {
   "codemirror_mode": {
    "name": "ipython",
    "version": 3
   },
   "file_extension": ".py",
   "mimetype": "text/x-python",
   "name": "python",
   "nbconvert_exporter": "python",
   "pygments_lexer": "ipython3",
   "version": "3.11.5"
  }
 },
 "nbformat": 4,
 "nbformat_minor": 5
}
