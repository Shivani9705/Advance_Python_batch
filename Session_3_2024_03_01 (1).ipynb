{
 "cells": [
  {
   "cell_type": "code",
   "execution_count": 1,
   "id": "678dc60b",
   "metadata": {},
   "outputs": [
    {
     "name": "stdout",
     "output_type": "stream",
     "text": [
      "List Datatype\n"
     ]
    }
   ],
   "source": [
    "print(\"List Datatype\")"
   ]
  },
  {
   "cell_type": "markdown",
   "id": "18ce175a",
   "metadata": {},
   "source": [
    "Short cut key to run a cell is SHIFT+ENTER"
   ]
  },
  {
   "cell_type": "markdown",
   "id": "9e4edaf4",
   "metadata": {},
   "source": [
    "# Operators in Python\n",
    "\n",
    "1.Arithmetic Operator + ,-,*,/"
   ]
  },
  {
   "cell_type": "code",
   "execution_count": 42,
   "id": "fc711837",
   "metadata": {},
   "outputs": [
    {
     "name": "stdout",
     "output_type": "stream",
     "text": [
      "3\n"
     ]
    }
   ],
   "source": [
    "n1=8\n",
    "n2=5\n",
    "sub=n1-n2\n",
    "print(sub)"
   ]
  },
  {
   "cell_type": "code",
   "execution_count": 45,
   "id": "eba003cc",
   "metadata": {},
   "outputs": [
    {
     "name": "stdout",
     "output_type": "stream",
     "text": [
      "8 - 5 =3\n"
     ]
    }
   ],
   "source": [
    "print(f\"{n1} - {n2} ={sub}\")"
   ]
  },
  {
   "cell_type": "code",
   "execution_count": 51,
   "id": "a2e5c79c",
   "metadata": {},
   "outputs": [
    {
     "name": "stdout",
     "output_type": "stream",
     "text": [
      "7.5\n"
     ]
    }
   ],
   "source": [
    "a=15\n",
    "b=2\n",
    "c=a/b\n",
    "print(c)"
   ]
  },
  {
   "cell_type": "code",
   "execution_count": 50,
   "id": "9bdc519c",
   "metadata": {},
   "outputs": [
    {
     "name": "stdout",
     "output_type": "stream",
     "text": [
      "7\n"
     ]
    }
   ],
   "source": [
    "# integer division\n",
    "a=15\n",
    "b=2\n",
    "d=a//b\n",
    "print(d)"
   ]
  },
  {
   "cell_type": "code",
   "execution_count": 54,
   "id": "8d63b9f9",
   "metadata": {},
   "outputs": [
    {
     "data": {
      "text/plain": [
       "6"
      ]
     },
     "execution_count": 54,
     "metadata": {},
     "output_type": "execute_result"
    }
   ],
   "source": [
    "round(6.2)"
   ]
  },
  {
   "cell_type": "markdown",
   "id": "636af053",
   "metadata": {},
   "source": [
    "% modulo division\n",
    "\n",
    "Remainder from division\n"
   ]
  },
  {
   "cell_type": "code",
   "execution_count": 55,
   "id": "3e6f402a",
   "metadata": {},
   "outputs": [
    {
     "name": "stdout",
     "output_type": "stream",
     "text": [
      "1\n"
     ]
    }
   ],
   "source": [
    "a=15\n",
    "b=2\n",
    "c=a%b\n",
    "print(c)"
   ]
  },
  {
   "cell_type": "code",
   "execution_count": null,
   "id": "9d0801f6",
   "metadata": {},
   "outputs": [],
   "source": []
  },
  {
   "cell_type": "code",
   "execution_count": null,
   "id": "55d30cae",
   "metadata": {},
   "outputs": [],
   "source": []
  },
  {
   "cell_type": "code",
   "execution_count": null,
   "id": "b9c67eaf",
   "metadata": {},
   "outputs": [],
   "source": []
  },
  {
   "cell_type": "code",
   "execution_count": 2,
   "id": "251b14e1",
   "metadata": {},
   "outputs": [
    {
     "data": {
      "text/plain": [
       "663622150"
      ]
     },
     "execution_count": 2,
     "metadata": {},
     "output_type": "execute_result"
    }
   ],
   "source": [
    "657384678+6237472"
   ]
  },
  {
   "cell_type": "code",
   "execution_count": 4,
   "id": "afbc0e5d",
   "metadata": {},
   "outputs": [
    {
     "data": {
      "text/plain": [
       "10"
      ]
     },
     "execution_count": 4,
     "metadata": {},
     "output_type": "execute_result"
    }
   ],
   "source": [
    "num1=3\n",
    "num2=7\n",
    "num1+num2"
   ]
  },
  {
   "cell_type": "code",
   "execution_count": 5,
   "id": "923f2c17",
   "metadata": {},
   "outputs": [
    {
     "data": {
      "text/plain": [
       "int"
      ]
     },
     "execution_count": 5,
     "metadata": {},
     "output_type": "execute_result"
    }
   ],
   "source": [
    "type(num1)"
   ]
  },
  {
   "cell_type": "code",
   "execution_count": 6,
   "id": "1f22c080",
   "metadata": {},
   "outputs": [
    {
     "data": {
      "text/plain": [
       "bool"
      ]
     },
     "execution_count": 6,
     "metadata": {},
     "output_type": "execute_result"
    }
   ],
   "source": [
    "type(True)"
   ]
  },
  {
   "cell_type": "code",
   "execution_count": 7,
   "id": "8789e0de",
   "metadata": {},
   "outputs": [
    {
     "data": {
      "text/plain": [
       "float"
      ]
     },
     "execution_count": 7,
     "metadata": {},
     "output_type": "execute_result"
    }
   ],
   "source": [
    "type(98.3)"
   ]
  },
  {
   "cell_type": "code",
   "execution_count": 8,
   "id": "0731f426",
   "metadata": {},
   "outputs": [
    {
     "data": {
      "text/plain": [
       "str"
      ]
     },
     "execution_count": 8,
     "metadata": {},
     "output_type": "execute_result"
    }
   ],
   "source": [
    "type(\"Pradnya\")"
   ]
  },
  {
   "cell_type": "code",
   "execution_count": 10,
   "id": "1c447155",
   "metadata": {},
   "outputs": [
    {
     "data": {
      "text/plain": [
       "str"
      ]
     },
     "execution_count": 10,
     "metadata": {},
     "output_type": "execute_result"
    }
   ],
   "source": [
    "type(\"ETLHIVE123\")"
   ]
  },
  {
   "cell_type": "code",
   "execution_count": 11,
   "id": "b91ba56c",
   "metadata": {},
   "outputs": [
    {
     "data": {
      "text/plain": [
       "int"
      ]
     },
     "execution_count": 11,
     "metadata": {},
     "output_type": "execute_result"
    }
   ],
   "source": [
    "type(num1)"
   ]
  },
  {
   "cell_type": "code",
   "execution_count": 12,
   "id": "3d1a41c6",
   "metadata": {},
   "outputs": [],
   "source": [
    "num1=67.98"
   ]
  },
  {
   "cell_type": "code",
   "execution_count": 13,
   "id": "443fdc0a",
   "metadata": {},
   "outputs": [
    {
     "data": {
      "text/plain": [
       "float"
      ]
     },
     "execution_count": 13,
     "metadata": {},
     "output_type": "execute_result"
    }
   ],
   "source": [
    "type(num1)"
   ]
  },
  {
   "cell_type": "markdown",
   "id": "3e953e2d",
   "metadata": {},
   "source": [
    "# List"
   ]
  },
  {
   "cell_type": "code",
   "execution_count": 14,
   "id": "863178b3",
   "metadata": {},
   "outputs": [],
   "source": [
    "employee=[]"
   ]
  },
  {
   "cell_type": "code",
   "execution_count": 15,
   "id": "91f81f5c",
   "metadata": {},
   "outputs": [
    {
     "data": {
      "text/plain": [
       "[]"
      ]
     },
     "execution_count": 15,
     "metadata": {},
     "output_type": "execute_result"
    }
   ],
   "source": [
    "employee"
   ]
  },
  {
   "cell_type": "code",
   "execution_count": 16,
   "id": "deb851f8",
   "metadata": {},
   "outputs": [],
   "source": [
    "emp_data=[7,'Aditya','aditya@gmail.com','HR',True]"
   ]
  },
  {
   "cell_type": "code",
   "execution_count": 18,
   "id": "54fbac01",
   "metadata": {},
   "outputs": [
    {
     "name": "stdout",
     "output_type": "stream",
     "text": [
      "[7, 'Aditya', 'aditya@gmail.com', 'HR', True]\n"
     ]
    }
   ],
   "source": [
    "print(emp_data)"
   ]
  },
  {
   "cell_type": "code",
   "execution_count": 19,
   "id": "3f813427",
   "metadata": {},
   "outputs": [
    {
     "data": {
      "text/plain": [
       "7"
      ]
     },
     "execution_count": 19,
     "metadata": {},
     "output_type": "execute_result"
    }
   ],
   "source": [
    "# fetch list elements\n",
    "emp_data[0]"
   ]
  },
  {
   "cell_type": "code",
   "execution_count": 20,
   "id": "26967c93",
   "metadata": {},
   "outputs": [
    {
     "data": {
      "text/plain": [
       "'HR'"
      ]
     },
     "execution_count": 20,
     "metadata": {},
     "output_type": "execute_result"
    }
   ],
   "source": [
    "emp_data[3]"
   ]
  },
  {
   "cell_type": "code",
   "execution_count": 21,
   "id": "1ba30311",
   "metadata": {},
   "outputs": [
    {
     "data": {
      "text/plain": [
       "True"
      ]
     },
     "execution_count": 21,
     "metadata": {},
     "output_type": "execute_result"
    }
   ],
   "source": [
    "#Negative Indexing\n",
    "emp_data[-1]"
   ]
  },
  {
   "cell_type": "code",
   "execution_count": 22,
   "id": "41efe04a",
   "metadata": {},
   "outputs": [
    {
     "data": {
      "text/plain": [
       "'Aditya'"
      ]
     },
     "execution_count": 22,
     "metadata": {},
     "output_type": "execute_result"
    }
   ],
   "source": [
    "emp_data[-4]"
   ]
  },
  {
   "cell_type": "markdown",
   "id": "e316e953",
   "metadata": {},
   "source": [
    "# List Slicing"
   ]
  },
  {
   "cell_type": "code",
   "execution_count": 23,
   "id": "ccc1d6b4",
   "metadata": {},
   "outputs": [
    {
     "data": {
      "text/plain": [
       "['aditya@gmail.com', 'HR']"
      ]
     },
     "execution_count": 23,
     "metadata": {},
     "output_type": "execute_result"
    }
   ],
   "source": [
    "# listname[start_index:end_index]\n",
    "\n",
    "emp_data[2:4]"
   ]
  },
  {
   "cell_type": "code",
   "execution_count": 24,
   "id": "586d2cda",
   "metadata": {},
   "outputs": [
    {
     "data": {
      "text/plain": [
       "['Aditya', 'aditya@gmail.com', 'HR', True]"
      ]
     },
     "execution_count": 24,
     "metadata": {},
     "output_type": "execute_result"
    }
   ],
   "source": [
    "emp_data[1:]"
   ]
  },
  {
   "cell_type": "code",
   "execution_count": 25,
   "id": "a29bada9",
   "metadata": {},
   "outputs": [
    {
     "data": {
      "text/plain": [
       "['HR', True]"
      ]
     },
     "execution_count": 25,
     "metadata": {},
     "output_type": "execute_result"
    }
   ],
   "source": [
    "emp_data[3:5]"
   ]
  },
  {
   "cell_type": "code",
   "execution_count": 26,
   "id": "a16214e8",
   "metadata": {},
   "outputs": [
    {
     "data": {
      "text/plain": [
       "[7, 'Aditya', 'aditya@gmail.com', 'HR', True]"
      ]
     },
     "execution_count": 26,
     "metadata": {},
     "output_type": "execute_result"
    }
   ],
   "source": [
    "# # listname[start_index:end_index : step_size]\n",
    "\n",
    "emp_data[:]"
   ]
  },
  {
   "cell_type": "code",
   "execution_count": 27,
   "id": "366a1a82",
   "metadata": {},
   "outputs": [
    {
     "data": {
      "text/plain": [
       "[7, 'aditya@gmail.com', True]"
      ]
     },
     "execution_count": 27,
     "metadata": {},
     "output_type": "execute_result"
    }
   ],
   "source": [
    "emp_data[::2]"
   ]
  },
  {
   "cell_type": "code",
   "execution_count": 31,
   "id": "e47f7f99",
   "metadata": {},
   "outputs": [
    {
     "data": {
      "text/plain": [
       "['aditya@gmail.com']"
      ]
     },
     "execution_count": 31,
     "metadata": {},
     "output_type": "execute_result"
    }
   ],
   "source": [
    "emp_data[2:5:3]"
   ]
  },
  {
   "cell_type": "markdown",
   "id": "0eb36192",
   "metadata": {},
   "source": [
    "# Reversing of List"
   ]
  },
  {
   "cell_type": "code",
   "execution_count": 35,
   "id": "696a015a",
   "metadata": {},
   "outputs": [
    {
     "data": {
      "text/plain": [
       "[True, 'HR', 'aditya@gmail.com', 'Aditya', 7]"
      ]
     },
     "execution_count": 35,
     "metadata": {},
     "output_type": "execute_result"
    }
   ],
   "source": [
    "new_list=emp_data[::-1]\n",
    "new_list"
   ]
  },
  {
   "cell_type": "code",
   "execution_count": 34,
   "id": "e831cd4d",
   "metadata": {},
   "outputs": [
    {
     "data": {
      "text/plain": [
       "[7, 'Aditya', 'aditya@gmail.com', 'HR', True]"
      ]
     },
     "execution_count": 34,
     "metadata": {},
     "output_type": "execute_result"
    }
   ],
   "source": [
    "emp_data[::2]"
   ]
  },
  {
   "cell_type": "code",
   "execution_count": 33,
   "id": "82f6fc87",
   "metadata": {},
   "outputs": [
    {
     "data": {
      "text/plain": [
       "[True, 'aditya@gmail.com', 7]"
      ]
     },
     "execution_count": 33,
     "metadata": {},
     "output_type": "execute_result"
    }
   ],
   "source": [
    "emp_data[::-2]"
   ]
  },
  {
   "cell_type": "code",
   "execution_count": 37,
   "id": "1b05ae2f",
   "metadata": {},
   "outputs": [
    {
     "data": {
      "text/plain": [
       "[True, 'aditya@gmail.com', 7]"
      ]
     },
     "execution_count": 37,
     "metadata": {},
     "output_type": "execute_result"
    }
   ],
   "source": [
    "new_list[::2]"
   ]
  },
  {
   "cell_type": "code",
   "execution_count": null,
   "id": "5ed7d99e",
   "metadata": {},
   "outputs": [],
   "source": []
  }
 ],
 "metadata": {
  "kernelspec": {
   "display_name": "Python 3 (ipykernel)",
   "language": "python",
   "name": "python3"
  },
  "language_info": {
   "codemirror_mode": {
    "name": "ipython",
    "version": 3
   },
   "file_extension": ".py",
   "mimetype": "text/x-python",
   "name": "python",
   "nbconvert_exporter": "python",
   "pygments_lexer": "ipython3",
   "version": "3.11.5"
  }
 },
 "nbformat": 4,
 "nbformat_minor": 5
}
